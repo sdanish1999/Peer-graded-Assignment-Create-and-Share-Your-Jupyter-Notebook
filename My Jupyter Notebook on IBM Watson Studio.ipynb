{
 "cells": [
  {
   "cell_type": "markdown",
   "id": "f5115346-5eec-4f83-8dc1-0470ca11774f",
   "metadata": {},
   "source": [
    "# My Jupyter Notebook on IBM Watson Studio"
   ]
  },
  {
   "cell_type": "markdown",
   "id": "b0d2c71f-a8f9-490c-a766-1ca13541f24c",
   "metadata": {},
   "source": [
    "**SHAMSUL DANISH BIN SHAMSUL NAZRIN**"
   ]
  },
  {
   "cell_type": "markdown",
   "id": "28092d23-7593-414a-846c-5b4c61ae40e2",
   "metadata": {},
   "source": [
    "Engineering Analyst"
   ]
  },
  {
   "cell_type": "markdown",
   "id": "4fc5a598-79be-4281-ac8d-92fe5226bf71",
   "metadata": {},
   "source": [
    "*I am interested in data science because, I want to combine the power of AI/ML with the business requirements, to create powerful solutions and provide deep insights into issues an organization needs to solve or discover underlying patterns to discover new potential insights*"
   ]
  },
  {
   "cell_type": "markdown",
   "id": "8a67051e-dd37-4555-8c56-8a129f276350",
   "metadata": {},
   "source": [
    "### The Following Code will generate a random integer between 80 and 100"
   ]
  },
  {
   "cell_type": "code",
   "execution_count": null,
   "id": "2803408b-c14f-4b67-a10c-159c546d69f2",
   "metadata": {},
   "outputs": [],
   "source": [
    "import random\n",
    "\n",
    "Random_int = random.randint(80,100)\n",
    "\n",
    "print(Random_int)"
   ]
  },
  {
   "cell_type": "markdown",
   "id": "969b2db7-45f8-47b5-94d5-c62ddef73544",
   "metadata": {},
   "source": [
    "* Item\n",
    "* Item\n",
    "- Item\n",
    "- Item\n",
    "\n",
    "1. Item\n",
    "2. Item\n",
    "\n",
    "> Quoted text.\n",
    "> > Quoted quote.\n",
    "\n",
    "\n"
   ]
  },
  {
   "cell_type": "code",
   "execution_count": null,
   "id": "ed31b2b7-ae9a-42fa-af48-50fd1d8752d6",
   "metadata": {},
   "outputs": [],
   "source": []
  }
 ],
 "metadata": {
  "kernelspec": {
   "display_name": "R",
   "language": "R",
   "name": "conda-env-r-r"
  },
  "language_info": {
   "codemirror_mode": "r",
   "file_extension": ".r",
   "mimetype": "text/x-r-source",
   "name": "R",
   "pygments_lexer": "r",
   "version": "3.5.1"
  }
 },
 "nbformat": 4,
 "nbformat_minor": 5
}
